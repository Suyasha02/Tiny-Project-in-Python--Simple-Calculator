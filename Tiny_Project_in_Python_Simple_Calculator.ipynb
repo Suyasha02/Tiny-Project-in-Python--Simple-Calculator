{
  "cells": [
    {
      "cell_type": "markdown",
      "metadata": {
        "id": "IKq6QgvTvR3j"
      },
      "source": [
        "Simple Calculator"
      ]
    },
    {
      "cell_type": "code",
      "execution_count": null,
      "metadata": {
        "id": "pZ8GIIBouS1R"
      },
      "outputs": [],
      "source": [
        "# Function to create a simple calculator\n",
        "def calculator():\n",
        "  # Asking the user's name\n",
        "  user_name = input(\"Please enter your name:\")\n",
        "  # Capitalizing the name\n",
        "  cap_name= user_name.capitalize()\n",
        "  print (f\"Hello, {cap_name}!\")\n",
        "\n",
        "  # Infinite loop to allow users to continue or stop\n",
        "  while True:\n",
        "\n",
        "    # Options for mathematical operations\n",
        "    print(\"What mathematical operation do you need to do?\")\n",
        "    print(\"1. Addition\")\n",
        "    print(\"2. Subtraction\")\n",
        "    print(\"3. Multiplication\")\n",
        "    print(\"4. Division\")\n",
        "    print(\"5. Modulus\")\n",
        "    print(\"6. Quit\")\n",
        "\n",
        "    #Getting the user's choice\n",
        "    choice = input(\"Enter the number corresponding to your choice:\")\n",
        "\n",
        "    # Performing the operation\n",
        "    if choice == '1':\n",
        "      num1= float(input(\"Enter the first number:\"))\n",
        "      num2= float(input(\"Enter the second number:\"))\n",
        "      print(f\"Addition: {num1 + num2}\")\n",
        "\n",
        "    elif choice == '2':\n",
        "      num1= float(input(\"Enter the first number:\"))\n",
        "      num2= float(input(\"Enter the second number:\"))\n",
        "      print(f\"Subtraction: {num1 - num2}\")\n",
        "\n",
        "    elif choice == '3':\n",
        "      num1= float(input(\"Enter the first number:\"))\n",
        "      num2= float(input(\"Enter the second number:\"))\n",
        "      print(f\"Multiplication: {num1*num2}\")\n",
        "\n",
        "    elif choice == '4':\n",
        "      num1= float(input(\"Enter the first number:\"))\n",
        "      num2= float(input(\"Enter the second number:\"))\n",
        "      if num2 != 0:\n",
        "                print(f\"Division: {num1 / num2}\")\n",
        "      else:\n",
        "                print(\"Error! Division by zero.\")\n",
        "\n",
        "    elif choice == '5':\n",
        "      num1= float(input(\"Enter the first number:\"))\n",
        "      num2= float(input(\"Enter the second number:\"))\n",
        "      print(f\"Modulus: {num1 % num2}\")\n",
        "\n",
        "    elif choice == '6':\n",
        "      print(\"Thank you! Goodbye!\")\n",
        "      break\n",
        "\n",
        "    else:\n",
        "      print(\"Invalid choice! Please select a number from 1 to 6\")\n",
        "\n",
        "    #Asking if the user wants to continue\n",
        "    continue_choice = input(\"Do you want to continue? (Y/N):\").strip().upper()\n",
        "\n",
        "    if continue_choice != 'Y':\n",
        "      print(\"Thank you for using the calculator! Goodbye!\")\n",
        "      break\n",
        "\n",
        "#To run the calculator\n",
        "calculator()\n"
      ]
    }
  ],
  "metadata": {
    "colab": {
      "provenance": []
    },
    "kernelspec": {
      "display_name": "Python 3",
      "name": "python3"
    },
    "language_info": {
      "name": "python"
    }
  },
  "nbformat": 4,
  "nbformat_minor": 0
}